{
 "cells": [
  {
   "cell_type": "code",
   "execution_count": 2,
   "id": "2e720249",
   "metadata": {},
   "outputs": [],
   "source": [
    "import os\n",
    "from langchain_openai import ChatOpenAI\n",
    "from getpass import getpass\n",
    "\n",
    "os.environ[\"OPENAI_API_KEY\"] = os.getenv(\"OPENAI_API_KEY\")\n",
    "\n",
    "chat = ChatOpenAI(\n",
    "    openai_api_key=os.environ[\"OPENAI_API_KEY\"],\n",
    "    model='gpt-3.5-turbo-0125'\n",
    ")"
   ]
  },
  {
   "cell_type": "code",
   "execution_count": 3,
   "id": "15ef9f65",
   "metadata": {},
   "outputs": [],
   "source": [
    "from langchain.schema import (\n",
    "    SystemMessage,\n",
    "    HumanMessage,\n",
    "    AIMessage\n",
    ")\n",
    "\n",
    "messages = [\n",
    "    SystemMessage(content=\"You are a helpful assistant.\"),\n",
    "    HumanMessage(content=\"Hi AI, how are you today?\"),\n",
    "    AIMessage(content=\"I'm great thank you. How can I help you?\"),\n",
    "    HumanMessage(content=\"I'd like to understand string theory.\")\n",
    "]"
   ]
  },
  {
   "cell_type": "code",
   "execution_count": 4,
   "id": "8933c637",
   "metadata": {},
   "outputs": [
    {
     "name": "stderr",
     "output_type": "stream",
     "text": [
      "/tmp/ipykernel_39205/3952239659.py:1: LangChainDeprecationWarning: The method `BaseChatModel.__call__` was deprecated in langchain-core 0.1.7 and will be removed in 1.0. Use :meth:`~invoke` instead.\n",
      "  res = chat(messages)\n"
     ]
    }
   ],
   "source": [
    "res = chat(messages)\n"
   ]
  },
  {
   "cell_type": "code",
   "execution_count": 5,
   "id": "321249ac",
   "metadata": {},
   "outputs": [
    {
     "name": "stdout",
     "output_type": "stream",
     "text": [
      "String theory is a theoretical framework in which the point-like particles of particle physics are replaced by one-dimensional objects called strings. These strings can vibrate at different frequencies, giving rise to different fundamental particles. The theory aims to provide a unified description of all fundamental forces of nature, including gravity.\n",
      "\n",
      "There are different versions of string theory, such as superstring theory and M-theory, which incorporate supersymmetry and higher-dimensional objects beyond strings.\n",
      "\n",
      "String theory has not yet been proven experimentally, but it is a widely studied and researched topic in theoretical physics due to its potential to unify all fundamental forces and explain the fundamental nature of the universe.\n",
      "\n",
      "Is there anything specific you would like to know about string theory?\n"
     ]
    }
   ],
   "source": [
    "print(res.content)"
   ]
  },
  {
   "cell_type": "code",
   "execution_count": 6,
   "id": "dd97786f",
   "metadata": {},
   "outputs": [
    {
     "name": "stdout",
     "output_type": "stream",
     "text": [
      "Physicists believe that string theory has the potential to produce a unified theory because it attempts to describe all fundamental forces in a single framework. In traditional particle physics, there are different theories that explain different fundamental forces, such as the Standard Model of particle physics for electromagnetism, weak nuclear force, and strong nuclear force, and general relativity for gravity.\n",
      "\n",
      "By introducing strings as the fundamental building blocks of the universe, string theory attempts to reconcile the principles of quantum mechanics and general relativity, which are currently described by separate theories. In doing so, it has the potential to provide a unified description of all fundamental forces and particles in the universe.\n",
      "\n",
      "Additionally, string theory predicts the existence of additional dimensions beyond the familiar three spatial dimensions and one time dimension. These extra dimensions can help explain phenomena that are not accounted for in traditional theories and provide a more comprehensive understanding of the fundamental workings of the universe.\n",
      "\n",
      "While string theory has not yet been proven experimentally, its mathematical consistency and potential for unification make it an attractive candidate for a theory of everything. Scientists continue to explore and develop string theory in the hope of achieving a unified description of the fundamental forces of nature.\n"
     ]
    }
   ],
   "source": [
    "# add latest AI response to messages\n",
    "messages.append(res)\n",
    "\n",
    "# now create a new user prompt\n",
    "prompt = HumanMessage(\n",
    "    content=\"Why do physicists believe it can produce a 'unified theory'?\"\n",
    ")\n",
    "# add to messages\n",
    "messages.append(prompt)\n",
    "\n",
    "# send to chat-gpt\n",
    "res = chat(messages)\n",
    "\n",
    "print(res.content)"
   ]
  },
  {
   "cell_type": "code",
   "execution_count": 7,
   "id": "81de9271",
   "metadata": {},
   "outputs": [
    {
     "data": {
      "text/plain": [
       "[SystemMessage(content='You are a helpful assistant.', additional_kwargs={}, response_metadata={}),\n",
       " HumanMessage(content='Hi AI, how are you today?', additional_kwargs={}, response_metadata={}),\n",
       " AIMessage(content=\"I'm great thank you. How can I help you?\", additional_kwargs={}, response_metadata={}),\n",
       " HumanMessage(content=\"I'd like to understand string theory.\", additional_kwargs={}, response_metadata={}),\n",
       " AIMessage(content='String theory is a theoretical framework in which the point-like particles of particle physics are replaced by one-dimensional objects called strings. These strings can vibrate at different frequencies, giving rise to different fundamental particles. The theory aims to provide a unified description of all fundamental forces of nature, including gravity.\\n\\nThere are different versions of string theory, such as superstring theory and M-theory, which incorporate supersymmetry and higher-dimensional objects beyond strings.\\n\\nString theory has not yet been proven experimentally, but it is a widely studied and researched topic in theoretical physics due to its potential to unify all fundamental forces and explain the fundamental nature of the universe.\\n\\nIs there anything specific you would like to know about string theory?', additional_kwargs={'refusal': None}, response_metadata={'token_usage': {'completion_tokens': 141, 'prompt_tokens': 53, 'total_tokens': 194, 'completion_tokens_details': {'accepted_prediction_tokens': 0, 'audio_tokens': 0, 'reasoning_tokens': 0, 'rejected_prediction_tokens': 0}, 'prompt_tokens_details': {'audio_tokens': 0, 'cached_tokens': 0}}, 'model_name': 'gpt-3.5-turbo-0125', 'system_fingerprint': None, 'id': 'chatcmpl-BvGWc9LU9Mr7J1kzWIsGGLJQLVVun', 'finish_reason': 'stop', 'logprobs': None}, id='run--d013449c-3333-4179-a38f-ac36282dbccd-0', usage_metadata={'input_tokens': 53, 'output_tokens': 141, 'total_tokens': 194, 'input_token_details': {'audio': 0, 'cache_read': 0}, 'output_token_details': {'audio': 0, 'reasoning': 0}}),\n",
       " HumanMessage(content=\"Why do physicists believe it can produce a 'unified theory'?\", additional_kwargs={}, response_metadata={})]"
      ]
     },
     "execution_count": 7,
     "metadata": {},
     "output_type": "execute_result"
    }
   ],
   "source": [
    "messages"
   ]
  },
  {
   "cell_type": "markdown",
   "id": "48df24c5",
   "metadata": {},
   "source": [
    "### If you ask the chatGPT model about the latest model, for exmaple Deepseek R1, the model would fail to update anything after it has been trained."
   ]
  },
  {
   "cell_type": "code",
   "execution_count": 6,
   "id": "28a90863",
   "metadata": {},
   "outputs": [],
   "source": [
    "# add latest AI response to messages\n",
    "messages.append(res)\n",
    "\n",
    "# now create a new user prompt\n",
    "prompt = HumanMessage(\n",
    "    content=\"What is so special about Deepseek R1?\"\n",
    ")\n",
    "# add to messages\n",
    "messages.append(prompt)\n",
    "\n",
    "# send to OpenAI\n",
    "res = chat(messages)"
   ]
  },
  {
   "cell_type": "code",
   "execution_count": 7,
   "id": "ac487192",
   "metadata": {},
   "outputs": [
    {
     "name": "stdout",
     "output_type": "stream",
     "text": [
      "I'm not familiar with Deepseek R1. Could you provide more context or information about what it is?\n"
     ]
    }
   ],
   "source": [
    "print(res.content)"
   ]
  },
  {
   "cell_type": "markdown",
   "id": "031aa137",
   "metadata": {},
   "source": [
    "We can feed additional information to the LLM with some instructions to tell the model how we would like to use this information alogside our original questioin."
   ]
  },
  {
   "cell_type": "code",
   "execution_count": 8,
   "id": "91b7f354",
   "metadata": {},
   "outputs": [],
   "source": [
    "source_knowledge = (\n",
    "    \"We introduce our first-generation reasoning models, DeepSeek-R1-Zero and \"\n",
    "    \"DeepSeek-R1. DeepSeek-R1-Zero, a model trained via large-scale \"\n",
    "    \"reinforcement learning (RL) without supervised fine-tuning (SFT) as a \"\n",
    "    \"preliminary step, demonstrates remarkable reasoning capabilities. Through \"\n",
    "    \"RL, DeepSeek-R1-Zero naturally emerges with numerous powerful and \"\n",
    "    \"intriguing reasoning behaviors. However, it encounters challenges such as \"\n",
    "    \"poor readability, and language mixing. To address these issues and \"\n",
    "    \"further enhance reasoning performance, we introduce DeepSeek-R1, which \"\n",
    "    \"incorporates multi-stage training and cold-start data before RL. \"\n",
    "    \"DeepSeek-R1 achieves performance comparable to OpenAI-o1-1217 on \"\n",
    "    \"reasoning tasks. To support the research community, we open-source \"\n",
    "    \"DeepSeek-R1-Zero, DeepSeek-R1, and six dense models (1.5B, 7B, 8B, 14B, \"\n",
    "    \"32B, 70B) distilled from DeepSeek-R1 based on Qwen and Llama.\"\n",
    ")"
   ]
  },
  {
   "cell_type": "code",
   "execution_count": 9,
   "id": "1aef711b",
   "metadata": {},
   "outputs": [],
   "source": [
    "query = \"What is so special about Deepseek R1?\"\n",
    "\n",
    "augmented_prompt = f\"\"\"Using the contexts below, answer the query.\n",
    "\n",
    "Contexts:\n",
    "{source_knowledge}\n",
    "\n",
    "Query: {query}\"\"\""
   ]
  },
  {
   "cell_type": "code",
   "execution_count": 10,
   "id": "d2acfd0e",
   "metadata": {},
   "outputs": [],
   "source": [
    "# create a new user prompt\n",
    "prompt = HumanMessage(\n",
    "    content=augmented_prompt\n",
    ")\n",
    "# add to messages\n",
    "messages.append(prompt)\n",
    "\n",
    "# send to OpenAI\n",
    "res = chat(messages)"
   ]
  },
  {
   "cell_type": "code",
   "execution_count": 11,
   "id": "0689deb9",
   "metadata": {},
   "outputs": [
    {
     "name": "stdout",
     "output_type": "stream",
     "text": [
      "DeepSeek R1 is a special deep learning model that stands out for its impressive reasoning capabilities. It is designed to address challenges encountered by its predecessor, DeepSeek-R1-Zero, such as poor readability and language mixing, by incorporating multi-stage training and cold-start data before reinforcement learning (RL). This approach has led to DeepSeek R1 achieving performance comparable to OpenAI-o1-1217 on reasoning tasks. Additionally, the developers have open-sourced DeepSeek-R1-Zero, DeepSeek-R1, and six dense models distilled from DeepSeek-R1 to support the research community.\n"
     ]
    }
   ],
   "source": [
    "print(res.content)"
   ]
  },
  {
   "cell_type": "markdown",
   "id": "c5b8c2a2",
   "metadata": {},
   "source": [
    "### Importing the Data\n",
    "\n",
    "In this task, we will be importing our data. We will be using the Hugging Face Datasets library to load our data. Specifically, we will be using the \"jamescalam/deepseek-r1-paper-chunked\" dataset. This dataset contains the Deepseek R1 paper pre-processed into RAG-ready chunks."
   ]
  },
  {
   "cell_type": "code",
   "execution_count": 12,
   "id": "a3d047e6",
   "metadata": {},
   "outputs": [
    {
     "name": "stderr",
     "output_type": "stream",
     "text": [
      "/home/philippe/miniconda3/envs/rag/lib/python3.13/site-packages/tqdm/auto.py:21: TqdmWarning: IProgress not found. Please update jupyter and ipywidgets. See https://ipywidgets.readthedocs.io/en/stable/user_install.html\n",
      "  from .autonotebook import tqdm as notebook_tqdm\n",
      "Generating train split: 100%|██████████| 76/76 [00:00<00:00, 18999.11 examples/s]\n"
     ]
    },
    {
     "data": {
      "text/plain": [
       "Dataset({\n",
       "    features: ['doi', 'chunk-id', 'chunk', 'num_tokens', 'pages', 'source'],\n",
       "    num_rows: 76\n",
       "})"
      ]
     },
     "execution_count": 12,
     "metadata": {},
     "output_type": "execute_result"
    }
   ],
   "source": [
    "from datasets import load_dataset\n",
    "\n",
    "dataset = load_dataset(\n",
    "    \"jamescalam/deepseek-r1-paper-chunked\",\n",
    "    split=\"train\"\n",
    ")\n",
    "\n",
    "dataset"
   ]
  },
  {
   "cell_type": "code",
   "execution_count": null,
   "id": "166599d5",
   "metadata": {},
   "outputs": [
    {
     "data": {
      "text/plain": [
       "[[[0, 0], [0, 0], [0, 0]],\n",
       " [[0, 0], [0, 0], [0, 0]],\n",
       " [[0, 0], [0, 0], [0, 0]],\n",
       " [[0, 0], [0, 0], [0, 0]],\n",
       " [[0, 0], [0, 0], [0, 0]]]"
      ]
     },
     "execution_count": 1,
     "metadata": {},
     "output_type": "execute_result"
    }
   ],
   "source": [
    "my_list: list[str] =  [\"1\", 2, \"3\"]\n",
    "my_list2: list[int] = [\"1\", \"3\"]\n",
    "\n"
   ]
  },
  {
   "cell_type": "code",
   "execution_count": null,
   "id": "cf5609be",
   "metadata": {},
   "outputs": [
    {
     "data": {
      "text/plain": [
       "2"
      ]
     },
     "execution_count": 2,
     "metadata": {},
     "output_type": "execute_result"
    }
   ],
   "source": []
  }
 ],
 "metadata": {
  "kernelspec": {
   "display_name": "rag",
   "language": "python",
   "name": "python3"
  },
  "language_info": {
   "codemirror_mode": {
    "name": "ipython",
    "version": 3
   },
   "file_extension": ".py",
   "mimetype": "text/x-python",
   "name": "python",
   "nbconvert_exporter": "python",
   "pygments_lexer": "ipython3",
   "version": "3.13.0"
  }
 },
 "nbformat": 4,
 "nbformat_minor": 5
}
